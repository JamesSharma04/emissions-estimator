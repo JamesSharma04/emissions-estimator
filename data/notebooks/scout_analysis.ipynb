{
 "cells": [
  {
   "cell_type": "code",
   "execution_count": 8,
   "metadata": {},
   "outputs": [],
   "source": [
    "import csv\n",
    "import pandas as pd\n",
    "import os\n",
    "import numpy as np\n",
    "from pathlib import Path\n"
   ]
  },
  {
   "cell_type": "code",
   "execution_count": 12,
   "metadata": {},
   "outputs": [],
   "source": [
    "# look at structure of data\n",
    "\n",
    "path = \"../raw/osr_single_node/\"\n",
    "counter = 0\n",
    "for x in os.listdir(path):\n",
    "    counter += 1\n",
    "\n",
    "    subpath = path+x+\"/sar.csv\"\n",
    "    df = pd.read_csv(subpath)\n",
    "    d = {'name': [x], 'avgcpu': [df[\"cpu.%usr\"].mean()], 'avgmem': [df[\"memory.%memused\"].mean(\n",
    "    )], 'avgdisk': [df[\"disk.%util\"].mean()], 'avgnet': [df[\"network.%ifutil\"].mean()]}\n",
    "    avgdf = pd.DataFrame(data=d)\n",
    "    if counter == 6:\n",
    "        break\n"
   ]
  },
  {
   "cell_type": "code",
   "execution_count": 10,
   "metadata": {},
   "outputs": [],
   "source": [
    "path = \"../raw/osr_single_node/\"\n",
    "counter = 0\n",
    "\n",
    "# loop through unprocessed files\n",
    "for x in os.listdir(path):\n",
    "    counter += 1\n",
    "\n",
    "    subpath = path+x+\"/sar.csv\"\n",
    "    df = pd.read_csv(subpath)\n",
    "    # compute averages across file and store\n",
    "    d = {'name': [x], 'avgcpu': [df[\"cpu.%usr\"].mean()], 'avgmem': [\n",
    "        df[\"memory.%memused\"].mean()], 'avgdisk': [df[\"disk.%util\"].mean()]}\n",
    "    avgdf = pd.DataFrame(data=d)\n",
    "\n",
    "    dfpath = Path(f\"../processed/scout/average_utils/{x}.csv\")\n",
    "    avgdf.to_csv(dfpath, index=False)\n",
    "    if counter == 6:\n",
    "        break\n"
   ]
  },
  {
   "cell_type": "code",
   "execution_count": 13,
   "metadata": {},
   "outputs": [],
   "source": [
    "path = \"../raw/osr_single_node/\"\n",
    "counter = 0\n",
    "\n",
    "# loop through unprocessed files\n",
    "for x in os.listdir(path):\n",
    "    counter += 1\n",
    "\n",
    "    subpath = path+x+\"/sar.csv\"\n",
    "    df = pd.read_csv(subpath)\n",
    "    # store 5s utilisation data\n",
    "    d = {'cpu': df[\"cpu.%usr\"], 'mem': df[\"memory.%memused\"],\n",
    "         'disk': df[\"disk.%util\"]}\n",
    "    avgdf = pd.DataFrame(data=d)\n",
    "    dfpath = Path(f\"../processed/scout/slim_data/{x}.csv\")\n",
    "    avgdf.to_csv(dfpath, index=False)\n",
    "    if counter == 6:\n",
    "        break\n"
   ]
  },
  {
   "cell_type": "code",
   "execution_count": 14,
   "metadata": {},
   "outputs": [],
   "source": [
    "#loop through slimmed down files \n",
    "path = \"../processed/scout/slim_data/\"\n",
    "counter = 0\n",
    "\n",
    "\n",
    "dfs = []\n",
    "\n",
    "for x in os.listdir(path):\n",
    "    fullpath = path+x\n",
    "    if os.path.isfile(fullpath):\n",
    "        counter += 1\n",
    "        df = pd.read_csv(fullpath)\n",
    "        dfs.append(df)\n",
    "\n",
    "        # store combined csv and start again\n",
    "        if x[-5] == '3':\n",
    "            alldfs = pd.concat(dfs)\n",
    "            dfpath = Path(\n",
    "                f\"../processed/scout/slim_data/runs_merged/{x[:-6]}.csv\")\n",
    "            alldfs.to_csv(dfpath, index=False)\n",
    "            dfs = []\n",
    "            continue\n",
    "\n",
    "        if counter == 6:\n",
    "            break\n"
   ]
  }
 ],
 "metadata": {
  "kernelspec": {
   "display_name": "Python 3.9.1 ('env': venv)",
   "language": "python",
   "name": "python3"
  },
  "language_info": {
   "codemirror_mode": {
    "name": "ipython",
    "version": 3
   },
   "file_extension": ".py",
   "mimetype": "text/x-python",
   "name": "python",
   "nbconvert_exporter": "python",
   "pygments_lexer": "ipython3",
   "version": "3.9.1"
  },
  "orig_nbformat": 4,
  "vscode": {
   "interpreter": {
    "hash": "7d5d09f790366ce3cfc190a1b32374d118a80d9ac22d13bbd67747868894a94f"
   }
  }
 },
 "nbformat": 4,
 "nbformat_minor": 2
}
