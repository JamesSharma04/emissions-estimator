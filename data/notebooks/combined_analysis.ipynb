{
 "cells": [
  {
   "cell_type": "code",
   "execution_count": 75,
   "metadata": {},
   "outputs": [],
   "source": [
    "import pandas as pd\n",
    "from pathlib import Path"
   ]
  },
  {
   "cell_type": "code",
   "execution_count": 78,
   "metadata": {},
   "outputs": [],
   "source": [
    "power_curves = pd.read_csv(\"../processed/teads/instancelines.csv\")\n",
    "all_runs = pd.read_csv(\"../processed/scout/average_utils/averages.csv\")\n",
    "#print(power_curves.loc[[\"c4.2xlarge\"]:])\n",
    "#print(power_curves[\"cluster_type\"])\n",
    "power_curves = power_curves.set_index(\"cluster_type\")\n",
    "dfs=[]\n",
    "\n",
    "for index, row in all_runs.iterrows():\n",
    "    avgutil=row['avgcpu']\n",
    "    instance=row['cluster_type']\n",
    "    #print(row['cluster_type'],row['avgcpu'])\n",
    "    hourpower=power_curves.loc[instance,'slope']* avgutil + power_curves.loc[instance,'intercept']\n",
    "    powerused=(hourpower/3600)*row['elapsed_time']\n",
    "    df = pd.DataFrame(data={'cluster_type' : row['name'],'power':powerused}, index=['cluster_type'])\n",
    "    dfs.append(df)\n",
    "all=pd.concat(dfs)\n",
    "dfpath = Path(f\"../processed/power.csv\")\n",
    "all.to_csv(dfpath, index=False)\n"
   ]
  },
  {
   "cell_type": "code",
   "execution_count": 83,
   "metadata": {},
   "outputs": [],
   "source": [
    "PUE = 1.135\n",
    "CARBON_INTENSITY = 228\n",
    "power_estimates = pd.read_csv(\"../processed/power.csv\")\n",
    "dfs=[]\n",
    "for index, row in power_estimates.iterrows():\n",
    "    power=row['power']\n",
    "    instance=row['cluster_type']\n",
    "    pue_power =power*PUE\n",
    "    carbon=(pue_power*CARBON_INTENSITY)/1000\n",
    "    df = pd.DataFrame(data={'cluster_type' : instance,'carbon':carbon}, index=['cluster_type'])\n",
    "    dfs.append(df)\n",
    "all=pd.concat(dfs)\n",
    "dfpath = Path(f\"../processed/carbon.csv\")\n",
    "all.to_csv(dfpath, index=False)\n",
    "\n"
   ]
  }
 ],
 "metadata": {
  "kernelspec": {
   "display_name": "Python 3.9.1 ('env': venv)",
   "language": "python",
   "name": "python3"
  },
  "language_info": {
   "codemirror_mode": {
    "name": "ipython",
    "version": 3
   },
   "file_extension": ".py",
   "mimetype": "text/x-python",
   "name": "python",
   "nbconvert_exporter": "python",
   "pygments_lexer": "ipython3",
   "version": "3.9.1"
  },
  "orig_nbformat": 4,
  "vscode": {
   "interpreter": {
    "hash": "7d5d09f790366ce3cfc190a1b32374d118a80d9ac22d13bbd67747868894a94f"
   }
  }
 },
 "nbformat": 4,
 "nbformat_minor": 2
}
